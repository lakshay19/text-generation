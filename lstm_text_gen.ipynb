{
  "cells": [
    {
      "cell_type": "markdown",
      "metadata": {
        "id": "-K7uztozd92C"
      },
      "source": [
        "# Long Short-term Memory for Text Generation\n",
        "## This homework is done in partnership by:\n",
        "### Devansh Batra (batra17@purdue.edu)\n",
        "### Lakshay Vohra (lvohra@purdue.edu)"
      ]
    },
    {
      "cell_type": "markdown",
      "metadata": {
        "id": "Z7LBZlRXd92G"
      },
      "source": [
        "This notebook uses LSTM neural network to generate text from Nietzsche's writings."
      ]
    },
    {
      "cell_type": "code",
      "execution_count": 1,
      "metadata": {
        "id": "yAGK0ho0d92H"
      },
      "outputs": [],
      "source": [
        "import matplotlib.pyplot as plt\n",
        "import numpy as np\n",
        "import pandas as pd\n",
        "import time\n",
        "import random\n",
        "import sys\n",
        "import io\n",
        "from keras.models import Sequential\n",
        "from keras.layers.recurrent import LSTM\n",
        "from keras.layers.core import Dense, Activation, Dropout\n",
        "\n",
        "import tensorflow as tf\n",
        "from tensorflow import keras\n",
        "from tensorflow.keras import layers\n",
        "from tensorflow.keras import optimizers\n",
        "from tensorflow.keras.callbacks import LambdaCallback\n",
        "from tensorflow.keras.utils import get_file\n",
        "\n"
      ]
    },
    {
      "cell_type": "markdown",
      "metadata": {
        "id": "pVmi_UUid92K"
      },
      "source": [
        "## Dataset"
      ]
    },
    {
      "cell_type": "markdown",
      "metadata": {
        "id": "IEna_3xzd92K"
      },
      "source": [
        "### Get the data\n",
        "Nietzsche's writing dataset is available online. The following code download the dataset."
      ]
    },
    {
      "cell_type": "code",
      "execution_count": 2,
      "metadata": {
        "tags": [],
        "colab": {
          "base_uri": "https://localhost:8080/"
        },
        "id": "vWZXg5wwd92K",
        "outputId": "870e0412-c382-4a41-d704-f507a75a36b0"
      },
      "outputs": [
        {
          "output_type": "stream",
          "name": "stdout",
          "text": [
            "Downloading data from https://s3.amazonaws.com/text-datasets/nietzsche.txt\n",
            "606208/600901 [==============================] - 0s 0us/step\n",
            "614400/600901 [==============================] - 0s 0us/step\n"
          ]
        }
      ],
      "source": [
        "path = get_file(\n",
        "    'nietzsche.txt',\n",
        "    origin='https://s3.amazonaws.com/text-datasets/nietzsche.txt')\n",
        "with io.open(path, encoding='utf-8') as f:\n",
        "    text = f.read().lower()"
      ]
    },
    {
      "cell_type": "markdown",
      "metadata": {
        "id": "Lqj5FjgJd92L"
      },
      "source": [
        "### Visualize data"
      ]
    },
    {
      "cell_type": "code",
      "execution_count": 3,
      "metadata": {
        "colab": {
          "base_uri": "https://localhost:8080/"
        },
        "id": "oInA2jHGd92L",
        "outputId": "c6ac5421-a4ce-478f-8b50-21e26beae1e0"
      },
      "outputs": [
        {
          "output_type": "stream",
          "name": "stdout",
          "text": [
            "corpus length: 600893\n"
          ]
        }
      ],
      "source": [
        "print('corpus length:', len(text))"
      ]
    },
    {
      "cell_type": "code",
      "execution_count": 4,
      "metadata": {
        "scrolled": true,
        "colab": {
          "base_uri": "https://localhost:8080/"
        },
        "id": "wHR8w_ipd92M",
        "outputId": "24f9de8f-8347-4f65-a190-56c20d1dd71b"
      },
      "outputs": [
        {
          "output_type": "stream",
          "name": "stdout",
          "text": [
            "supposing that truth is a woman--what then? is there not ground\n",
            "for suspecting that all philosophers, in so far as they have been\n",
            "dogmatists, have failed to understand women--that the terrible\n",
            "seriousness and clumsy importunity with which they have usually paid\n",
            "their addresses to truth, have been unskilled and unseemly methods for\n",
            "winning a woman? certainly she has never allowed herself to be won; and\n",
            "at present every kind of dogma stands with sad and discouraged mien--if,\n",
            "indeed, it stands at all!\n"
          ]
        }
      ],
      "source": [
        "print(text[10:513])"
      ]
    },
    {
      "cell_type": "code",
      "execution_count": 5,
      "metadata": {
        "colab": {
          "base_uri": "https://localhost:8080/"
        },
        "id": "KvCSajdMd92N",
        "outputId": "83cbca39-1707-478b-9b19-60a6f529d690"
      },
      "outputs": [
        {
          "output_type": "stream",
          "name": "stdout",
          "text": [
            "total chars: 57\n"
          ]
        }
      ],
      "source": [
        "chars = sorted(list(set(text)))\n",
        "# total nomber of characters\n",
        "print('total chars:', len(chars))"
      ]
    },
    {
      "cell_type": "markdown",
      "metadata": {
        "id": "zLSLMCKSd92N"
      },
      "source": [
        "### Clean data\n",
        "\n",
        "We cut the text in sequences of maxlen characters with a jump size of 3.\n",
        "The features for each example is a matrix of size maxlen*num of chars.\n",
        "The label for each example is a vector of size num of chars, which represents the next character."
      ]
    },
    {
      "cell_type": "code",
      "execution_count": 6,
      "metadata": {
        "tags": [],
        "id": "IJ-D3QX7d92O"
      },
      "outputs": [],
      "source": [
        "# create (character, index) and (index, character) dictionary\n",
        "char_indices = dict((c, i) for i, c in enumerate(chars))\n",
        "indices_char = dict((i, c) for i, c in enumerate(chars))"
      ]
    },
    {
      "cell_type": "code",
      "execution_count": 7,
      "metadata": {
        "colab": {
          "base_uri": "https://localhost:8080/"
        },
        "id": "dF-LcafAd92P",
        "outputId": "6ce5221e-6d81-4e11-8493-b5ef91aad969"
      },
      "outputs": [
        {
          "output_type": "stream",
          "name": "stdout",
          "text": [
            "nb sequences: 200285\n"
          ]
        }
      ],
      "source": [
        "# cut the text in semi-redundant sequences of maxlen characters\n",
        "maxlen = 40\n",
        "step = 3\n",
        "sentences = []\n",
        "next_chars = []\n",
        "for i in range(0, len(text) - maxlen, step):\n",
        "    sentences.append(text[i: i + maxlen])\n",
        "    next_chars.append(text[i + maxlen])\n",
        "print('nb sequences:', len(sentences))"
      ]
    },
    {
      "cell_type": "code",
      "execution_count": 8,
      "metadata": {
        "colab": {
          "base_uri": "https://localhost:8080/"
        },
        "id": "2MhZpPjvd92Q",
        "outputId": "502e99e1-13b4-41e1-f1de-e9f295f6db84"
      },
      "outputs": [
        {
          "output_type": "stream",
          "name": "stdout",
          "text": [
            "Vectorization...\n"
          ]
        },
        {
          "output_type": "stream",
          "name": "stderr",
          "text": [
            "/usr/local/lib/python3.7/dist-packages/ipykernel_launcher.py:2: DeprecationWarning: `np.bool` is a deprecated alias for the builtin `bool`. To silence this warning, use `bool` by itself. Doing this will not modify any behavior and is safe. If you specifically wanted the numpy scalar type, use `np.bool_` here.\n",
            "Deprecated in NumPy 1.20; for more details and guidance: https://numpy.org/devdocs/release/1.20.0-notes.html#deprecations\n",
            "  \n",
            "/usr/local/lib/python3.7/dist-packages/ipykernel_launcher.py:3: DeprecationWarning: `np.bool` is a deprecated alias for the builtin `bool`. To silence this warning, use `bool` by itself. Doing this will not modify any behavior and is safe. If you specifically wanted the numpy scalar type, use `np.bool_` here.\n",
            "Deprecated in NumPy 1.20; for more details and guidance: https://numpy.org/devdocs/release/1.20.0-notes.html#deprecations\n",
            "  This is separate from the ipykernel package so we can avoid doing imports until\n"
          ]
        }
      ],
      "source": [
        "print('Vectorization...')\n",
        "x = np.zeros((len(sentences), maxlen, len(chars)), dtype=np.bool)\n",
        "y = np.zeros((len(sentences), len(chars)), dtype=np.bool)\n",
        "for i, sentence in enumerate(sentences):\n",
        "    for t, char in enumerate(sentence):\n",
        "        x[i, t, char_indices[char]] = 1\n",
        "    y[i, char_indices[next_chars[i]]] = 1"
      ]
    },
    {
      "cell_type": "markdown",
      "metadata": {
        "id": "FrOlxtGOd92Q"
      },
      "source": [
        "## The model"
      ]
    },
    {
      "cell_type": "markdown",
      "metadata": {
        "id": "hi-cWNRzd92Q"
      },
      "source": [
        "### Build the model - fill in this box"
      ]
    },
    {
      "cell_type": "code",
      "execution_count": 9,
      "metadata": {
        "tags": [],
        "id": "wTbtyH7Wd92R"
      },
      "outputs": [],
      "source": [
        "# define the LSTM model\n",
        "model = Sequential()\n",
        "model.add(LSTM(128, input_shape=(x.shape[1], x.shape[2])))\n",
        "model.add(Dropout(0.2))\n",
        "model.add(Dense(y.shape[1], activation='softmax'))\n",
        "model.compile(loss='categorical_crossentropy', optimizer='adam')"
      ]
    },
    {
      "cell_type": "markdown",
      "metadata": {
        "id": "r40RNtVQd92R"
      },
      "source": [
        "### Inspect the model\n",
        "\n",
        "Use the `.summary` method to print a simple description of the model"
      ]
    },
    {
      "cell_type": "code",
      "execution_count": 10,
      "metadata": {
        "colab": {
          "base_uri": "https://localhost:8080/"
        },
        "id": "r2FXCIV1d92S",
        "outputId": "1868f276-f399-4c66-e3ab-63e6bf7deaff"
      },
      "outputs": [
        {
          "output_type": "stream",
          "name": "stdout",
          "text": [
            "Model: \"sequential\"\n",
            "_________________________________________________________________\n",
            " Layer (type)                Output Shape              Param #   \n",
            "=================================================================\n",
            " lstm (LSTM)                 (None, 128)               95232     \n",
            "                                                                 \n",
            " dropout (Dropout)           (None, 128)               0         \n",
            "                                                                 \n",
            " dense (Dense)               (None, 57)                7353      \n",
            "                                                                 \n",
            "=================================================================\n",
            "Total params: 102,585\n",
            "Trainable params: 102,585\n",
            "Non-trainable params: 0\n",
            "_________________________________________________________________\n"
          ]
        }
      ],
      "source": [
        "model.summary()"
      ]
    },
    {
      "cell_type": "markdown",
      "metadata": {
        "id": "RYz0UomCd92S"
      },
      "source": [
        "### Train the model"
      ]
    },
    {
      "cell_type": "code",
      "execution_count": 11,
      "metadata": {
        "tags": [],
        "id": "_KJClfVvd92T"
      },
      "outputs": [],
      "source": [
        "def sample(preds, temperature=1.0):\n",
        "    # helper function to sample an index from a probability array\n",
        "    preds = np.asarray(preds).astype('float64')\n",
        "    preds = np.log(preds) / temperature\n",
        "    exp_preds = np.exp(preds)\n",
        "    preds = exp_preds / np.sum(exp_preds)\n",
        "    probas = np.random.multinomial(1, preds, 1)\n",
        "    return np.argmax(probas)"
      ]
    },
    {
      "cell_type": "code",
      "execution_count": 12,
      "metadata": {
        "tags": [],
        "id": "srV6QV2Md92T"
      },
      "outputs": [],
      "source": [
        "class PrintLoss(keras.callbacks.Callback):\n",
        "    def on_epoch_end(self, epoch, _):\n",
        "        # Function invoked at end of each epoch. Prints generated text.\n",
        "        print()\n",
        "        print('----- Generating text after Epoch: %d' % epoch)\n",
        "\n",
        "        start_index = random.randint(0, len(text) - maxlen - 1)\n",
        "        for diversity in [0.5, 1.0]:\n",
        "            print('----- diversity:', diversity)\n",
        "\n",
        "            generated = ''\n",
        "            sentence = text[start_index: start_index + maxlen]\n",
        "            generated += sentence\n",
        "            print('----- Generating with seed: \"' + sentence + '\"')\n",
        "            sys.stdout.write(generated)\n",
        "\n",
        "            for i in range(400):\n",
        "                x_pred = np.zeros((1, maxlen, len(chars)))\n",
        "                for t, char in enumerate(sentence):\n",
        "                    x_pred[0, t, char_indices[char]] = 1.\n",
        "\n",
        "                preds = model.predict(x_pred, verbose=0)[0]\n",
        "                next_index = sample(preds, diversity)\n",
        "                next_char = indices_char[next_index]\n",
        "\n",
        "                sentence = sentence[1:] + next_char\n",
        "\n",
        "                sys.stdout.write(next_char)\n",
        "                sys.stdout.flush()\n",
        "            print()"
      ]
    },
    {
      "cell_type": "markdown",
      "metadata": {
        "id": "Ayw1so3Yd92U"
      },
      "source": [
        "### fill in this box for training the model"
      ]
    },
    {
      "cell_type": "code",
      "execution_count": 13,
      "metadata": {
        "scrolled": true,
        "colab": {
          "base_uri": "https://localhost:8080/"
        },
        "id": "k_tGDddRd92V",
        "outputId": "720d6404-fcb0-47e9-de54-b38f2a9ef9e1"
      },
      "outputs": [
        {
          "output_type": "stream",
          "name": "stdout",
          "text": [
            "Epoch 1/30\n",
            "1565/1565 [==============================] - ETA: 0s - loss: 2.5694\n",
            "----- Generating text after Epoch: 0\n",
            "----- diversity: 0.5\n",
            "----- Generating with seed: \"ly, there are enough of idiotic friends \"\n",
            "ly, there are enough of idiotic friends in and ars and and the the ther the perenound an the mast an than the wheat sengen al the on there dous hor and be as the pratibe wict wall or the his in wind if the eromand and cisung at of the the car te and in the arerer en the prand that thich of alle ands pantis the butither an wald the the sentititicust al the the the berith an hese the to thar the wertrer and in to the ment ant the then fun\n",
            "----- diversity: 1.0\n",
            "----- Generating with seed: \"ly, there are enough of idiotic friends \"\n",
            "ly, there are enough of idiotic friends nhem es goven, in tier in avet wimigwufe thamm, uls ismingutie ches dereinat asgyrw, wty lest tilh? the wale hive bees lendinged alres  or lettare ngom\"cint, ach hit tre\n",
            "mave in al of at ap smer, ble supuloghes to mict relver ane aw\" moss\n",
            "pirilyer uls i\" ag,\n",
            "cvengaevs yo liliter, th efremiue tha paleastice in ty meon ndowesy \"nof wone rotusliroten the loca inde assruniludione noy forl fon ane ranl\n",
            "1565/1565 [==============================] - 301s 189ms/step - loss: 2.5694\n",
            "Epoch 2/30\n",
            "1565/1565 [==============================] - ETA: 0s - loss: 2.1837\n",
            "----- Generating text after Epoch: 1\n",
            "----- diversity: 0.5\n",
            "----- Generating with seed: \"heir\n",
            "catholicism than we northerners are\"\n",
            "heir\n",
            "catholicism than we northerners are whis the fomst of the which and apsings. the mone if ralle, and the promation ant erting, the soully and reself\n",
            "the fundes and the the rister the\n",
            "deance and ous anwiscreding and the expertion and winh and pas in the proust beeves the conterte\n",
            "porater of the in as what the the bect thes whed as the which at of the sold of the mond the sughing the sound, and ald intsreved of the this neis the costi\n",
            "----- diversity: 1.0\n",
            "----- Generating with seed: \"heir\n",
            "catholicism than we northerners are\"\n",
            "heir\n",
            "catholicism than we northerners are anhuatend enoul canlss it tist, ured shecekereafionthes moblocise fall, morr, camenatomstraous of liseane iprislodenen, mate ho the\n",
            "soctrulera prosent inceray aev\n",
            "onttetsanct? astucons\n",
            "ankty anbur\n",
            "\n",
            "fol far\n",
            "digitobllogeve doded thevinesisys\"\n",
            "\" a wtibisy for a wetse iblite is patul the quapriys which ifn whed there-ting on, hove rhihgs ven a bo)t the minguthew hang the hoded extain-\n",
            "fom wlekof him \n",
            "1565/1565 [==============================] - 298s 191ms/step - loss: 2.1837\n",
            "Epoch 3/30\n",
            "1565/1565 [==============================] - ETA: 0s - loss: 2.0526\n",
            "----- Generating text after Epoch: 2\n",
            "----- diversity: 0.5\n",
            "----- Generating with seed: \"\n",
            "\n",
            "\n",
            "35\n",
            "\n",
            "=advantages of psychological obse\"\n",
            "\n",
            "\n",
            "\n",
            "35\n",
            "\n",
            "=advantages of psychological obse for the ereacing that the here and the pregente and lofe and sould and sould and reard the mentar as the pristante of the watting art precesting the anding of the recence of costingithe and lave somanting and which the arder his the ean the stan and bect the wan is and and mereand and what in the most and with in the a stings monle of the soment and which the suct and the mest and some instilling\n",
            "----- diversity: 1.0\n",
            "----- Generating with seed: \"\n",
            "\n",
            "\n",
            "35\n",
            "\n",
            "=advantages of psychological obse\"\n",
            "\n",
            "\n",
            "\n",
            "35\n",
            "\n",
            "=advantages of psychological obse that\n",
            "foreich\n",
            "inmare to notle sublusty and ander dey is a  is a comment! of andelf\n",
            "plethops a vestapines\n",
            "iut of the whith-uts a\n",
            "concuritity furls\n",
            "epcersouctrert\n",
            "his arh, iw an atinacus, hat is to shithhy homain whoue,fsis coarmerarat, a becspcored,s and adponducice\" not forls distule derery lof to sturher this asowity for bo hindings of thior the wers aly wall degtttetions \"fot hirsalfur: cheaid: \n",
            "1565/1565 [==============================] - 293s 187ms/step - loss: 2.0526\n",
            "Epoch 4/30\n",
            "1565/1565 [==============================] - ETA: 0s - loss: 1.9618\n",
            "----- Generating text after Epoch: 3\n",
            "----- diversity: 0.5\n",
            "----- Generating with seed: \"ys,\n",
            "seen from every position, the errone\"\n",
            "ys,\n",
            "seen from every position, the errone, and and parse and his of selfer of the pronous to excesce and more of his the reality and the rament ould and the consede to a master and and and the prexation of the\n",
            "suct the propestanted and decention the for the rould as and in the sull\n",
            "stere the so which the himself and consmintion and in the seally and and of in the reterer and the mare the remand to more the spaching the some\n",
            "veration of t\n",
            "----- diversity: 1.0\n",
            "----- Generating with seed: \"ys,\n",
            "seen from every position, the errone\"\n",
            "ys,\n",
            "seen from every position, the erroned styre cintiaed it why his the prered therenge\n",
            "\n",
            "so llowd love's by the nides aver\": it for moi, they course of anditrisminading andimations his thuts, in that ard ali isore sustes to uther so a ranadusedy ook upentain, tae im, shir densire axcent bele issuch sur: righem man bas usot ussimen a\n",
            "cincaiy.\n",
            "endatamalint over imst sidiented, the mist prever clate and withto tule not is of risicions, and\n",
            "1565/1565 [==============================] - 292s 187ms/step - loss: 1.9618\n",
            "Epoch 5/30\n",
            "1565/1565 [==============================] - ETA: 0s - loss: 1.8928\n",
            "----- Generating text after Epoch: 4\n",
            "----- diversity: 0.5\n",
            "----- Generating with seed: \"age-and-tribune-bawler). only, that it i\"\n",
            "age-and-tribune-bawler). only, that it is a man they with the contritian and the once this restine the such the canse the contice and that a that is the hast and sicility and the more the semplest, the strongs and and action of the propentirate sting the presting in the reches be seince that it is a ploust and deothing the inception the will and in free for the expless of the consertion, it is the hisser, and refers of the they housh th\n",
            "----- diversity: 1.0\n",
            "----- Generating with seed: \"age-and-tribune-bawler). only, that it i\"\n",
            "age-and-tribune-bawler). only, that it it\n",
            "-stres in we wortuble as a jeafings andfidimition, meolmy of expotsess is,\n",
            "and eoped. in\n",
            "whith ncemm rateine semelfely pensonoply ) yservoinl. be this ro's degore! is camorius of pheresenceed, which us p.icisino enous; he sorith or to the\n",
            "refinity as prenssered\"  s a rilly is dimalition of mitter and that reaster:--which lonber and and weal on whscese punte thel, that as the lay be that the\n",
            "exil\n",
            "1565/1565 [==============================] - 291s 186ms/step - loss: 1.8928\n",
            "Epoch 6/30\n",
            "1565/1565 [==============================] - ETA: 0s - loss: 1.8388\n",
            "----- Generating text after Epoch: 5\n",
            "----- diversity: 0.5\n",
            "----- Generating with seed: \"rtes was superficial.\n",
            "\n",
            "192. whoever has \"\n",
            "rtes was superficial.\n",
            "\n",
            "192. whoever has the opes of such all\n",
            "the condince, in the rase in the  has lake inselfes of that the knowing in the of a man and sinder and have and fan and the sofe an the resting the has that the still devils and which a freis not in the will and of and and sprend stould and all sperence and and inself, han susting a self reals, and that men which all are and sone and of the infleidity and inserficess of it is \n",
            "----- diversity: 1.0\n",
            "----- Generating with seed: \"rtes was superficial.\n",
            "\n",
            "192. whoever has \"\n",
            "rtes was superficial.\n",
            "\n",
            "192. whoever has worved the\n",
            "envere of the play deart forely expolem, and the finctowe disoidences, howeveresh\n",
            "viril--ware the helivar distive, whathers, a cture\n",
            "adoud artaint man ar in thoreststadly for the the daptionty hinvolt, the efrly--lem, there--art mere buthth to contanstralcesare to estice would sometainaich a phistosfouct\n",
            "and quand insuct!--the\n",
            "maghingle\n",
            "tho cammingd suct conse thing sungervesion lode it\n",
            "1565/1565 [==============================] - 292s 186ms/step - loss: 1.8388\n",
            "Epoch 7/30\n",
            "1565/1565 [==============================] - ETA: 0s - loss: 1.7939\n",
            "----- Generating text after Epoch: 6\n",
            "----- diversity: 0.5\n",
            "----- Generating with seed: \"ve been incited to an analysis of the\n",
            "wo\"\n",
            "ve been incited to an analysis of the\n",
            "word with the becale with a be can and hims lattare of the present the more conself all the person of the concause have con such a becom of the selfication of the contioned that in the was about to the an the more who has and the such imperted be in the for the exence to he can and finenous and preasse of the a prosing the spation of the self--the sonest it is as shill the conciuned the manifor the \n",
            "----- diversity: 1.0\n",
            "----- Generating with seed: \"ve been incited to an analysis of the\n",
            "wo\"\n",
            "ve been incited to an analysis of the\n",
            "word in bithout of the moy cond as of rove and se-moun as not\n",
            "life!.\n",
            "\n",
            "154. mad in noching has heive bethem whole, what it las fit xact it henous actically sornepless of maty\n",
            "beeve in the\n",
            "somemed hus of his\n",
            "pastion and how shartare of the once be abee\n",
            "in would one which sence is,\"--in shem! it the exevery inthinwtith ryse-foerrions, capled a domed to one knowm in the\n",
            "bolicanal makere, beenly, ouhed b\n",
            "1565/1565 [==============================] - 290s 185ms/step - loss: 1.7939\n",
            "Epoch 8/30\n",
            "1565/1565 [==============================] - ETA: 0s - loss: 1.7594\n",
            "----- Generating text after Epoch: 7\n",
            "----- diversity: 0.5\n",
            "----- Generating with seed: \"els. and behind all logic and\n",
            "its seemin\"\n",
            "els. and behind all logic and\n",
            "its seeming and evil to such precessions to know have and from the purision of machelos of in the contranced and that a to be inderselves of a procemstive and promet to the corserness and of incerticity do a consimation of the for evin of compicis of there every to man to the for ore indees to the contunder in the sere to his not a more the enture of a the oreverse a order and everything the sole to a been \n",
            "----- diversity: 1.0\n",
            "----- Generating with seed: \"els. and behind all logic and\n",
            "its seemin\"\n",
            "els. and behind all logic and\n",
            "its seeming, or misal zas to, but\n",
            "powerity who say in shick--when in ridlized a chiltanturations--withatures\n",
            "ard\n",
            "the deany--low uncersear medicage, yor peilation of the\n",
            "is a core, accarhencity and defillivious as for the leling of oumnist\n",
            "of conserpoonty in dobaennthe, or the ppictial, his\n",
            "diviliby whill beley, indorainseds!\n",
            "purtod whatess in the of stroded. her\n",
            "suppose; it alkors as that,\n",
            "the conglises. in\n",
            "1565/1565 [==============================] - 291s 186ms/step - loss: 1.7594\n",
            "Epoch 9/30\n",
            "1565/1565 [==============================] - ETA: 0s - loss: 1.7273\n",
            "----- Generating text after Epoch: 8\n",
            "----- diversity: 0.5\n",
            "----- Generating with seed: \" the dart of a god beneath whose invisib\"\n",
            " the dart of a god beneath whose invisible the purtion of the connction of the for existion, the existent of the powerd has his as in the philosopher to the really are this to seath the stand, the loved the power and the condering of sumperal the cirtess in the reselves man with its of that itself and belief and the prosent of the their their other of the every for in in itself in the power to the prose the semple in the sense they men \n",
            "----- diversity: 1.0\n",
            "----- Generating with seed: \" the dart of a god beneath whose invisib\"\n",
            " the dart of a god beneath whose invisible deagurbyle inderencer; his geter.\" it is nes, in dogffulenmly, howissrable, owr good in gils world this fince mecuresr order as\n",
            "things. felang in theyen are belung, only ouraby an5 piritured hemmers as a sumplyet days indoutt, or ga: optor and\n",
            "which lowege, the powsible, every unt, it perhaps as its refaresprasuthly and moath it has is theis creas, senser hand\n",
            "being they is\n",
            "staind: it is virsud\n",
            "1565/1565 [==============================] - 290s 185ms/step - loss: 1.7273\n",
            "Epoch 10/30\n",
            "1565/1565 [==============================] - ETA: 0s - loss: 1.7045\n",
            "----- Generating text after Epoch: 9\n",
            "----- diversity: 0.5\n",
            "----- Generating with seed: \"sponsibility--and who now, creditably, r\"\n",
            "sponsibility--and who now, creditably, retained in the extranstion of the conscience with he will sense of all the\n",
            "every his find and the sprest of the contraning to the sometion, the equally and that to as highe and and comscanion of the some ears and world has all all sovering that the consequent and to man of inderevering the such man in the most the moral in the imperte the spritical could and gromatares the some a consequent and th\n",
            "----- diversity: 1.0\n",
            "----- Generating with seed: \"sponsibility--and who now, creditably, r\"\n",
            "sponsibility--and who now, creditably, respention of fiselves.\" langimess ateince, worthelt cuptacles or feels burphingen will, the sownifuliffered to haw am belawes which\n",
            "these? that it, and work not invictous not of at bereed.--endefully leakners to is to be spric of the musting things! we how therhers\n",
            "calse will upsert and is the herdes \n",
            "preself, is not\n",
            "life to subjopt of been\n",
            "every of still fundicalen dy actures power he camp distoj\n",
            "1565/1565 [==============================] - 289s 185ms/step - loss: 1.7045\n",
            "Epoch 11/30\n",
            "1565/1565 [==============================] - ETA: 0s - loss: 1.6798\n",
            "----- Generating text after Epoch: 10\n",
            "----- diversity: 0.5\n",
            "----- Generating with seed: \". it does so with severity, indeed it de\"\n",
            ". it does so with severity, indeed it destrition of the forment, the amperioned to southous of plese to be the gear the proubteration, at uncention--it deance, so long of this knows of the live and hele sich as the reals of a man and such the\n",
            "sircises to the cane that destrous of the more the manter the which an one responsible to persent of with who will and the word and as the have belong of the mority and man and one in the coursic m\n",
            "----- diversity: 1.0\n",
            "----- Generating with seed: \". it does so with severity, indeed it de\"\n",
            ". it does so with severity, indeed it deints and\n",
            "pointi-inder spenpan were leaterope to\n",
            "a evaluness, thomorates payficaries! which out\n",
            "it is on t\n",
            "exfences.=-.\n",
            "\n",
            "33. with feeling and mustable than are lofe is thought, they now\n",
            "of a many cive spiritualize, or\n",
            "gomtantessit of sputure \"byrness accanden us of homs and find res only depressutershing themblos: fors upbest of] his long reception, a pistice for a restsnsean tuals so eart\" to his \n",
            "1565/1565 [==============================] - 290s 185ms/step - loss: 1.6798\n",
            "Epoch 12/30\n",
            "1565/1565 [==============================] - ETA: 0s - loss: 1.6590\n",
            "----- Generating text after Epoch: 11\n",
            "----- diversity: 0.5\n",
            "----- Generating with seed: \"e way!\n",
            "flee into concealment! and have y\"\n",
            "e way!\n",
            "flee into concealment! and have yould the prosent and\n",
            "constition consest of the exceptions and considering and\n",
            "regard has been the order and art the self-sures and self-coment of the alte who or such man and power that the persone the recoured be considion, the condention of the contranace in the stand to be not to the some to be amen that it wind all the prosent, still passion is all the heart of all the personal philosophers of\n",
            "----- diversity: 1.0\n",
            "----- Generating with seed: \"e way!\n",
            "flee into concealment! and have y\"\n",
            "e way!\n",
            "flee into concealment! and have yet inveristally concience?--tumperativing\n",
            "(or at anywrakeally\n",
            "thus\n",
            "wime nocentare\n",
            "his obe irtestic expetiineds reflecte, iverience\n",
            "to waust them inareal\" to and the bock! it secreyoce of more orenatice. ever adwapt platinisy,\" which \n",
            "o thusoine what orefice thing to a\"vilo, of sare velwe we sulp to han indives do his all regarcaling having to the new evil in greve leapuraristanblegitade to his and\n",
            "1565/1565 [==============================] - 291s 186ms/step - loss: 1.6590\n",
            "Epoch 13/30\n",
            "1565/1565 [==============================] - ETA: 0s - loss: 1.6402\n",
            "----- Generating text after Epoch: 12\n",
            "----- diversity: 0.5\n",
            "----- Generating with seed: \"sons may be reckoned nowadays the majori\"\n",
            "sons may be reckoned nowadays the majoring for the seitl of the strength of his strughted to the innicions and all forlings of religion of the such an existence in the a perpodsitual and the sureliest and interered, and and of the soition in the present, and in old with the that the were that in the such a the highten in which metions of the respition of respect of the hard it is and in the and spirit and\n",
            "and to its for the senter his e\n",
            "----- diversity: 1.0\n",
            "----- Generating with seed: \"sons may be reckoned nowadays the majori\"\n",
            "sons may be reckoned nowadays the majorical of prematiety highkel that clancion, amoth the\n",
            "more, putter at may is herewhith, that\n",
            "a signtarige\" to again, and\n",
            "iesured, wese doundstall, indevolon a\n",
            "otnestances ilsolly\n",
            "self is it abont, things adsiral arainity there, but such at took? heagefer the strinksok and sensian, all as itsesion, the as rase alinimature.--upon seenes; belienes, is the\n",
            "a contucl thouserity, anvedd an order to\n",
            "place b\n",
            "1565/1565 [==============================] - 292s 186ms/step - loss: 1.6402\n",
            "Epoch 14/30\n",
            "1565/1565 [==============================] - ETA: 0s - loss: 1.6222\n",
            "----- Generating text after Epoch: 13\n",
            "----- diversity: 0.5\n",
            "----- Generating with seed: \"bances--in short, slight attacks of stup\"\n",
            "bances--in short, slight attacks of stupid the belief which sense, in the former that the mort and a considerance to the have the notion of an ame something precients and strange the liger the strange and concertion of the subject is a berind\n",
            "their confucied to be the altore and required subject, in our exceptions of the concernatien of his some only the place which the feeling is more the sonter, siverated he great of an and such speri\n",
            "----- diversity: 1.0\n",
            "----- Generating with seed: \"bances--in short, slight attacks of stup\"\n",
            "bances--in short, slight attacks of stupthan hering, thought therowe\n",
            "will datiedmly more a\n",
            "time dany maker when the one?--atill--on the europe to that be carefaly of samorales of things all the most inquituonally. and there, he have all then liuts prosess and shight\" liftersives?\n",
            "waterroning to a tore\n",
            "streaking, they\n",
            "in\n",
            "his dightancens, as famsible ow feelings of becives.\" so which sopfacul grows and susperion belanker who mark of evact\n",
            "1565/1565 [==============================] - 292s 186ms/step - loss: 1.6222\n",
            "Epoch 15/30\n",
            "1565/1565 [==============================] - ETA: 0s - loss: 1.6087\n",
            "----- Generating text after Epoch: 14\n",
            "----- diversity: 0.5\n",
            "----- Generating with seed: \"der other names, of course, than\n",
            "those h\"\n",
            "der other names, of course, than\n",
            "those have the spirit and and certain our his tood that it is all the powers of suphomes, for exceptions of an what that it is powerfolence and his own infuculy, the that the orcurage the great not the belief, the properity of the orverse the one in conscience of the\n",
            "lighted will for the more soul to such has to the \"its dreat to a lighten of the contrantity of the profeecting self-morality,\n",
            "when be in t\n",
            "----- diversity: 1.0\n",
            "----- Generating with seed: \"der other names, of course, than\n",
            "those h\"\n",
            "der other names, of course, than\n",
            "those heimy pressacion with the thuman, for stanoto to its\n",
            "spechs of just ouglity be the will only componsianm of the prasen is every one's powerinm and\n",
            "will because of the manshe of\n",
            "good, this is ourssinct for so for as a cagnect of\n",
            "himself is meriats that the gitation of \"mallange, the himself\n",
            "stilusanct itself: in the for certain of old not a science at entore to it, in outlowe, philosophys of\n",
            "this qu\n",
            "1565/1565 [==============================] - 292s 187ms/step - loss: 1.6087\n",
            "Epoch 16/30\n",
            "1565/1565 [==============================] - ETA: 0s - loss: 1.5936\n",
            "----- Generating text after Epoch: 15\n",
            "----- diversity: 0.5\n",
            "----- Generating with seed: \" may act towards beings of a lower rank,\"\n",
            " may act towards beings of a lower rank, and the hast would be new the sympathy. \"one will my way the some and find and the controur to man and nearly it is the german the world, and an and of the such all all the prases the contrantion and\n",
            "destristing the persons of the the incertive that is not in the some a dage in the person of the same profound and to can and the dores and the consequently some superitive by himself the canest inva\n",
            "----- diversity: 1.0\n",
            "----- Generating with seed: \" may act towards beings of a lower rank,\"\n",
            " may act towards beings of a lower rank, fact.. the\n",
            "involspect do acteand\n",
            "poaber with the extertal, he the intellest only scienge of delined. there we mast frieldm, all, cruain\n",
            "lauth recage\n",
            "to the\n",
            "sensely of virtues\n",
            "\"that, even hatist self can longes, innocous has dscord dople, meanss and\n",
            "formible, fran exalsaciesturations and\n",
            "evtionness! our cirfutuogalmune\", a more crast speep\n",
            "philosopher--s\n",
            "chrisicy as to ferses mude\"--we the aeled a\n",
            "1565/1565 [==============================] - 292s 187ms/step - loss: 1.5936\n",
            "Epoch 17/30\n",
            "1565/1565 [==============================] - ETA: 0s - loss: 1.5820\n",
            "----- Generating text after Epoch: 16\n",
            "----- diversity: 0.5\n",
            "----- Generating with seed: \"of\n",
            "metaphysical questions presented to h\"\n",
            "of\n",
            "metaphysical questions presented to himself thought contumation, the christian us an amperstions for something and have a prodictive which the master has a seeses the world he who has to may be that it is a possible in the sule that possess and present and degagest and his sore in a power of the prometh and consequence that a prose\n",
            "that has one in a stronger stand and man the from the subeligions is a thing of the morality and every \n",
            "----- diversity: 1.0\n",
            "----- Generating with seed: \"of\n",
            "metaphysical questions presented to h\"\n",
            "of\n",
            "metaphysical questions presented to his beer inqueute of belief,\n",
            "for\n",
            "their as notes in this\n",
            "peepary\n",
            "remanedly of serfors what go which\n",
            "he wild the wemst intomgush tougg the man. it ast interverment with\n",
            "fould--the impatiences worlds and on the\n",
            "list or a ritical difficuetor, to the mes; respection and excemary desponsested supsinifucon of the sarplate one harnt: from\n",
            "the\n",
            "man styould leth. that persauding thope reatily of the knowmanat\n",
            "1565/1565 [==============================] - 292s 187ms/step - loss: 1.5820\n",
            "Epoch 18/30\n",
            "1565/1565 [==============================] - ETA: 0s - loss: 1.5694\n",
            "----- Generating text after Epoch: 17\n",
            "----- diversity: 0.5\n",
            "----- Generating with seed: \"hich at the present moment, blood and ir\"\n",
            "hich at the present moment, blood and iright the master of the ending into the consciention, and costianion of all called the stand the restinctive of the such as all that the world, in the simple should be not headed of man and the well an and which a parting of the sense, as a man and in the whatereal and complation.\n",
            "\n",
            "24.. there and the most and the anding as the acture in constine the supermanity of every are the\n",
            "some pirion of the \"\n",
            "----- diversity: 1.0\n",
            "----- Generating with seed: \"hich at the present moment, blood and ir\"\n",
            "hich at the present moment, blood and irsidves; it\n",
            "act of warms thore, errous of only\n",
            "anayful alse, wemstic all this slivided affomgnous , is on 'nothes wes example, weoked so the\n",
            "restres--on the fontreinating him only one is continal earth with this, mowinch\" in an apothescee, us evellakers\n",
            "and magicial puil. thever it is enjoyity bythes to besage follyst and courally in will to oversigniasion ourepto and in elriging from make a caane \n",
            "1565/1565 [==============================] - 292s 187ms/step - loss: 1.5694\n",
            "Epoch 19/30\n",
            "1565/1565 [==============================] - ETA: 0s - loss: 1.5578\n",
            "----- Generating text after Epoch: 18\n",
            "----- diversity: 0.5\n",
            "----- Generating with seed: \"es\n",
            "distrust and displeasure, if not scor\"\n",
            "es\n",
            "distrust and displeasure, if not scorming and corntring and course and constine the conder the more the self time of the camt is the such\n",
            "man is the from the made itself considerations and person itself a self-denoling and canto fact the that man in the feeling and sare a subjection and contranting and present virent exister in the begical in the some of the superion of the interpations of every the ready the nature, and moraled and \n",
            "----- diversity: 1.0\n",
            "----- Generating with seed: \"es\n",
            "distrust and displeasure, if not scor\"\n",
            "es\n",
            "distrust and displeasure, if not scorning\n",
            "subelf to hil gratserous antuses this\n",
            "pride world, is will in it cauled evylons? and thooking, what neegrion.\n",
            "inreally, beknow\n",
            "and man as the and keols and\n",
            "everythourd to fairity of the sore bean nowservef\n",
            "only bodial\n",
            "were corrimation inderan, natiful and your ans\"5\n",
            "constanted,\n",
            "\"feelings as they nevers\n",
            "one's\n",
            "suphist se ferses the poistris and nerecourness, a respections in the depensevousity \n",
            "1565/1565 [==============================] - 293s 187ms/step - loss: 1.5578\n",
            "Epoch 20/30\n",
            "1565/1565 [==============================] - ETA: 0s - loss: 1.5483\n",
            "----- Generating text after Epoch: 19\n",
            "----- diversity: 0.5\n",
            "----- Generating with seed: \"nd we cannot well cut off\n",
            "this head: alt\"\n",
            "nd we cannot well cut off\n",
            "this head: althere is a principed to the disintermant and the instinct more such a persons to are not the about philosophers have not be the prospect of the considering to the has of the will of as to be as the about the this prepording to a pass of the subject of the things that the may be the sore of the superfold the some the conceine the more the only only so domen and consequence and one is a oble to the l\n",
            "----- diversity: 1.0\n",
            "----- Generating with seed: \"nd we cannot well cut off\n",
            "this head: alt\"\n",
            "nd we cannot well cut off\n",
            "this head: altore, have semsion ty evall is in? in a courelilint ingeals, be reself surble in phencessions.\n",
            "\n",
            "80 imst a \"ampsetatists as a prighss--everyame ) is! so  he subpresed disportanes even himhal defere him staid\" a question with worth:, for he\n",
            "obarity to mave and us: its\n",
            "samallies\n",
            "does, it is not are--and is insespetces. but as himself as one\n",
            "on is paste \"diror prebadpry: there wele into the pervession \n",
            "1565/1565 [==============================] - 294s 188ms/step - loss: 1.5483\n",
            "Epoch 21/30\n",
            "1565/1565 [==============================] - ETA: 0s - loss: 1.5389\n",
            "----- Generating text after Epoch: 20\n",
            "----- diversity: 0.5\n",
            "----- Generating with seed: \"ilities (fundamental untruths as well). \"\n",
            "ilities (fundamental untruths as well). the former the superforting proctities of concrivices that the world, in all the more seets and life with the subject dangerous and for enough of the light not be interpristing that what has himself as would be and good and man, which we conceady and the prowest in the self-caurion that the are disconding to the strangions the present. the more the by suppose which the rare to the\n",
            "procoust are the\n",
            "----- diversity: 1.0\n",
            "----- Generating with seed: \"ilities (fundamental untruths as well). \"\n",
            "ilities (fundamental untruths as well). the grous; with a symper, is he exaloliy ull world ofne a naring him wabelf, one as not suca reals\n",
            "one itself stronges, his contuliobated, her: bitievy of net a more what perhaps aptist,\n",
            "not truths it is\n",
            "at or--of this\n",
            "deviculy eoged misficimy,\n",
            "doel maget--galled\n",
            "notale meniliay to of the philosopher that even with which a shimo and\n",
            "subslmstiter, with should religen, the\n",
            "man, astark heuling to ap \n",
            "1565/1565 [==============================] - 293s 187ms/step - loss: 1.5389\n",
            "Epoch 22/30\n",
            "1565/1565 [==============================] - ETA: 0s - loss: 1.5285\n",
            "----- Generating text after Epoch: 21\n",
            "----- diversity: 0.5\n",
            "----- Generating with seed: \"s fit him\n",
            "properly--he changes and chang\"\n",
            "s fit him\n",
            "properly--he changes and change the sore of the one of the recogness of the courter every and adisted to the man in all the reals for the contrant the ponted to the order\n",
            "intellectual partical the still the astimical former seeling the respect of the more the thing of contrable them and the new were the contrastity of sense of the supersestare of the perhaps of the partiral the\n",
            "forge, stands for the reading into the stoir subj\n",
            "----- diversity: 1.0\n",
            "----- Generating with seed: \"s fit him\n",
            "properly--he changes and chang\"\n",
            "s fit him\n",
            "properly--he changes and changing) of the  art,\n",
            "the sake the aporoung.\n",
            "\n",
            "152.. it on which contumple, the mindertion\n",
            "about and world canmedt because nef cositionon proit at the period and fevering of can (to by similac the case?. canisfor to the\n",
            "soil dure conscieticient verwar knowledge of hametion of\n",
            "dere means\"--he which upon compully their\n",
            "scienter of the calmot distinces\n",
            "boths, onists, that noved healable\n",
            "fumpry-beother cth\n",
            "1565/1565 [==============================] - 294s 188ms/step - loss: 1.5285\n",
            "Epoch 23/30\n",
            "1565/1565 [==============================] - ETA: 0s - loss: 1.5197\n",
            "----- Generating text after Epoch: 22\n",
            "----- diversity: 0.5\n",
            "----- Generating with seed: \"it is possible, therefore, to\n",
            "impose som\"\n",
            "it is possible, therefore, to\n",
            "impose something and itself philosophers are an appeared to seem the person in ourselves and supersistive in the thanding with the moral demend of philosophing, and the still of the power of the at and the as could the still, and have a present and accomption of the superficially, and the one and the nature and a prospect, and what revering consequenting the\n",
            "stand of the such a subtle them are the prosplive\n",
            "----- diversity: 1.0\n",
            "----- Generating with seed: \"it is possible, therefore, to\n",
            "impose som\"\n",
            "it is possible, therefore, to\n",
            "impose something pa clasenil man how volut, purpising musices of conscception of whole is bying, which discarnend,\n",
            "man appainity or individual\n",
            "opon of the credic which in all the  known infule--nor the sperits by\n",
            "hemeries\n",
            "ir long of the word, so, and\n",
            "the lightern preximed ctangs.--coment longes and,\n",
            "stimlly rasus, certuates, crodicaso(, they would he to as praces and'e be breal how the bfoung to stratter, a\n",
            "1565/1565 [==============================] - 297s 190ms/step - loss: 1.5197\n",
            "Epoch 24/30\n",
            "1565/1565 [==============================] - ETA: 0s - loss: 1.5113\n",
            "----- Generating text after Epoch: 23\n",
            "----- diversity: 0.5\n",
            "----- Generating with seed: \"neither good nor bad. whence comes the c\"\n",
            "neither good nor bad. whence comes the condition of the waster one knowledge that the fact their appariness with the interpletations and such account the some a stranging have work of the result in the contrant it is even the sumpless of an instinctive in the one a more cantisual person that is the resict of the world healthion of the soul of the sperit as the mistoment and the strength of the most discipting at the last to a something \n",
            "----- diversity: 1.0\n",
            "----- Generating with seed: \"neither good nor bad. whence comes the c\"\n",
            "neither good nor bad. whence comes the comple most alteration if and the reading, dainsley\n",
            "thereby,\" accomt fir that sevinacced not parned, as the standmonts of the that all, individual must, and for more which is one lowing, their bestans of\n",
            "knowledge,\n",
            "speaks\n",
            "triind, cruituss, what artalion, the\n",
            "countureatly him to perspetual power, and ouper-men is its right and passius greatern),\n",
            "and\n",
            "san. in ought to\n",
            "dinhement, law and dissicially fo\n",
            "1565/1565 [==============================] - 299s 191ms/step - loss: 1.5113\n",
            "Epoch 25/30\n",
            "1565/1565 [==============================] - ETA: 0s - loss: 1.5032\n",
            "----- Generating text after Epoch: 24\n",
            "----- diversity: 0.5\n",
            "----- Generating with seed: \"et access everywhere, such as a noble ag\"\n",
            "et access everywhere, such as a noble again to his order and the fact that it is the deception of here is desire, and the goinh itself to is not light of the have his order that the most action and some from the printers of the seese and not bewnow how the resilitation of the pain will the string form of the same is a subject, which seems to the conners and in the man in the suppose of the great really erourd soul, in one examble to be \n",
            "----- diversity: 1.0\n",
            "----- Generating with seed: \"et access everywhere, such as a noble ag\"\n",
            "et access everywhere, such as a noble agmelishs as lars with sensed\n",
            "become lore in the virtuese\"\n",
            "listiar to that principar of gears.\n",
            "\n",
            "\n",
            "5)\n",
            "\n",
            "=ererality to pist chriotian\n",
            "are\n",
            "accorded its astreated the genis as\n",
            "lither master, when\n",
            "feelirn of methat as shelings, the generalicy cinclives, does--and\n",
            "stand the cogite.\"\n",
            "\n",
            "   an undmortaries every tos how as tame ctrist precoment regard of his\n",
            "mard\n",
            "develing readity his must,\n",
            "and\n",
            "besims obe moning\n",
            "1565/1565 [==============================] - 299s 191ms/step - loss: 1.5032\n",
            "Epoch 26/30\n",
            "1565/1565 [==============================] - ETA: 0s - loss: 1.4974\n",
            "----- Generating text after Epoch: 25\n",
            "----- diversity: 0.5\n",
            "----- Generating with seed: \"roached upon in slumber is the memory; n\"\n",
            "roached upon in slumber is the memory; not makes and a different self-to sour as he deeman with a science, and all the master to the artions, and and to be the world to the desires that has in the way be nother enfictably lived of a sealling, so abreaving in the sense, on the world and the powerful and spirituality, and may and the\n",
            "virtue of the self-complened the strange of the antimation of the self-conceition and possibility and alta\n",
            "----- diversity: 1.0\n",
            "----- Generating with seed: \"roached upon in slumber is the memory; n\"\n",
            "roached upon in slumber is the memory; new cause how speak--that rank of dovilu to every men fitine, a6right his lang, they a carries ever the wran.t and finner thing to the healger elom--eogetous of youngernts with lets from reandly a the\n",
            "rangled, as as it deem resplonedness of ruliliness, as toman  his mantings, us and\n",
            "estapiry of exusul sussent distselfcced in the pirfoled\n",
            " how\n",
            "adsiring powerful\n",
            "suspaptly is? in much omeance than he \n",
            "1565/1565 [==============================] - 297s 190ms/step - loss: 1.4974\n",
            "Epoch 27/30\n",
            "1565/1565 [==============================] - ETA: 0s - loss: 1.4892\n",
            "----- Generating text after Epoch: 26\n",
            "----- diversity: 0.5\n",
            "----- Generating with seed: \"f disbelief, which makes them cold,\n",
            "and \"\n",
            "f disbelief, which makes them cold,\n",
            "and respect of the same self, that all the explossion, and granded the still intermans, there is not the lage the appiloss the world, is prevail in the former the belief in the soul and and all philosophy, and themselves in the subjection of a constine of have that the more man and perhaps as the the feeling and futrality of a problom and thought with the partical is the world of the some belief and i\n",
            "----- diversity: 1.0\n",
            "----- Generating with seed: \"f disbelief, which makes them cold,\n",
            "and \"\n",
            "f disbelief, which makes them cold,\n",
            "and that the\n",
            "propolorsticted only as. and firsting\n",
            "amother it\n",
            "educisage\n",
            "exequine at the some morals the antist.\n",
            "\n",
            "88. and suppose, the berince must bad simble and fasternatics of guditless which\n",
            "any his and not the still rebitred and parsuace for which case wisherman\n",
            "were superions rulang vict time is receprine of the pgeditionadious) thereby the\n",
            "plato\n",
            "reperrected, quitaly that troramy, hold, in cheris\n",
            "1565/1565 [==============================] - 300s 192ms/step - loss: 1.4892\n",
            "Epoch 28/30\n",
            "1565/1565 [==============================] - ETA: 0s - loss: 1.4836\n",
            "----- Generating text after Epoch: 27\n",
            "----- diversity: 0.5\n",
            "----- Generating with seed: \"he apologist of\n",
            "knowledge [in the abstra\"\n",
            "he apologist of\n",
            "knowledge [in the abstraning the world of his fearing in the astimess and ane readiness and missored and will to him every stall be a more a philosophers and a powerful and not of the oftrist of interpretention of the self-possibility in the problem of the standing in order to the world preceds and action and senting. in the persons concences; it is betie greatest and spiritual and their manifical philosophy of an eventi\n",
            "----- diversity: 1.0\n",
            "----- Generating with seed: \"he apologist of\n",
            "knowledge [in the abstra\"\n",
            "he apologist of\n",
            "knowledge [in the abstrait of their forcection of anked,\n",
            "anst to the sider and is his ordinary, impossible and intellectual men that they\n",
            " a notiens and corence aloses accompchizens and munation of the last spiritol who at, for theve crost comestet, atstingitious expemilitise theil's heuch, as as are romasslibects to also, amonner case of esuigi-athice, and\n",
            "lacts for telired or from so parisyne\")\n",
            "against the little time \n",
            "1565/1565 [==============================] - 296s 189ms/step - loss: 1.4836\n",
            "Epoch 29/30\n",
            "1565/1565 [==============================] - ETA: 0s - loss: 1.4772\n",
            "----- Generating text after Epoch: 28\n",
            "----- diversity: 0.5\n",
            "----- Generating with seed: \"thy, and solitude. for solitude is a vir\"\n",
            "thy, and solitude. for solitude is a virtues of self-sure them and something that shelight in the passions of intellectual sensian, betreem of the world, that the the sperit the elopetion and means of all the out of the contrant and self-done and its operation is such reason superior and a form in actions that it is not the self-sureedingers have a whole made will not the religious complement the sore in a suprinesing and feeling, and t\n",
            "----- diversity: 1.0\n",
            "----- Generating with seed: \"thy, and solitude. for solitude is a vir\"\n",
            "thy, and solitude. for solitude is a virtue of influence has too gods are\n",
            "wonders in itself behorthen is true, st\n",
            "undonally may judgarly wime, with its\n",
            "free dream of roens and ain own powers follying vail teabon\n",
            "exhisecaling same, even the a river as immed as a former depear, an surglness for omend, as a way, thoo, is which it is in the tradifaleiral for and conductar in the imberitmptof and thoughtsel of hand.\n",
            "\n",
            "\n",
            "53\n",
            "\n",
            "=pirinaty in the fi\n",
            "1565/1565 [==============================] - 295s 189ms/step - loss: 1.4772\n",
            "Epoch 30/30\n",
            "1565/1565 [==============================] - ETA: 0s - loss: 1.4693\n",
            "----- Generating text after Epoch: 29\n",
            "----- diversity: 0.5\n",
            "----- Generating with seed: \"n the brightest moments of our waking li\"\n",
            "n the brightest moments of our waking like the praced and instinctive itself the other not the christian the soul of the moral the subject of the have the contrant of the to be first of the considerated to sound which he discensians of the german and weals a sout of contemple of the fable to make the conscience he have life and soul with an the good divineded in the contradisto an instinct and can the still be conscations and discoverer\n",
            "----- diversity: 1.0\n",
            "----- Generating with seed: \"n the brightest moments of our waking li\"\n",
            "n the brightest moments of our waking live that the statided it\n",
            "had wish that our one just and\n",
            "entince fean of\n",
            "the fasouralies: conmence which say edobited, s musticule and things he actuous spirits of master, it was maskn and inscience of question what character, the judgment, therefore blingely: as to fait, the will. has supery insardiat: it is the philosophers for\n",
            "then side--fory to or a\n",
            "firts into the spefs it the world and belongs,\n",
            "1565/1565 [==============================] - 297s 190ms/step - loss: 1.4693\n"
          ]
        },
        {
          "output_type": "execute_result",
          "data": {
            "text/plain": [
              "<keras.callbacks.History at 0x7f58902f6dd0>"
            ]
          },
          "metadata": {},
          "execution_count": 13
        }
      ],
      "source": [
        "model.fit(x, y,\n",
        "          batch_size=128,\n",
        "          epochs=30,\n",
        "          callbacks=[PrintLoss()])"
      ]
    }
  ],
  "metadata": {
    "kernelspec": {
      "display_name": "Python 3",
      "language": "python",
      "name": "python3"
    },
    "language_info": {
      "codemirror_mode": {
        "name": "ipython",
        "version": 3
      },
      "file_extension": ".py",
      "mimetype": "text/x-python",
      "name": "python",
      "nbconvert_exporter": "python",
      "pygments_lexer": "ipython3",
      "version": "3.8.5"
    },
    "colab": {
      "name": "lstm_text_gen_HW.ipynb",
      "provenance": []
    },
    "accelerator": "GPU"
  },
  "nbformat": 4,
  "nbformat_minor": 0
}